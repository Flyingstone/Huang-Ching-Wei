{
 "cells": [
  {
   "cell_type": "code",
   "execution_count": 4,
   "metadata": {
    "collapsed": true
   },
   "outputs": [],
   "source": [
    "import string\n",
    "import sklearn\n",
    "import pickle\n",
    "import numpy as np\n",
    "from sklearn.feature_extraction.text import TfidfVectorizer"
   ]
  },
  {
   "cell_type": "code",
   "execution_count": 5,
   "metadata": {
    "collapsed": false
   },
   "outputs": [],
   "source": [
    "with open('./books/corpus.pickle') as f: \n",
    "    B_train_corpus, B_train_label, B_test_corpus, B_test_label = pickle.load(f)\n",
    "n_B = len(B_train_corpus)\n",
    "\n",
    "with open('./dvd/corpus.pickle') as f: \n",
    "    D_train_corpus, D_train_label, D_test_corpus, D_test_label = pickle.load(f)\n",
    "n_D = len(D_train_corpus)\n",
    "    \n",
    "with open('./electronics/corpus.pickle') as f: \n",
    "    E_train_corpus, E_train_label, E_test_corpus, E_test_label = pickle.load(f)    \n",
    "n_E = len(E_train_corpus)\n",
    "    \n",
    "with open('./kitchen/corpus.pickle') as f: \n",
    "    K_train_corpus, K_train_label, K_test_corpus, K_test_label = pickle.load(f)     \n",
    "n_K = len(K_train_corpus)\n",
    "    \n",
    "domain = ['books', 'dvd', 'electronics', 'kitchen']\n",
    "train_corpus = [B_train_corpus, D_train_corpus, E_train_corpus, K_train_corpus]\n",
    "train_labels = [B_train_label, D_train_label, E_train_label, K_train_label]\n",
    "test_corpus = [B_test_corpus, D_test_corpus, E_test_corpus, K_test_corpus]\n",
    "test_labels = [B_test_label, D_test_label, E_test_label, K_test_label]    "
   ]
  },
  {
   "cell_type": "code",
   "execution_count": 6,
   "metadata": {
    "collapsed": false,
    "scrolled": true
   },
   "outputs": [],
   "source": [
    "max_feature=2000\n",
    "\n",
    "corpus = []\n",
    "corpus.extend(train_corpus[0])\n",
    "corpus.extend(train_corpus[1])\n",
    "corpus.extend(train_corpus[2])\n",
    "corpus.extend(train_corpus[3])\n",
    "\n",
    "vectorizer = TfidfVectorizer(max_features=max_feature)\n",
    "vectorizer.fit_transform(corpus)\n",
    "\n",
    "dictionary = vectorizer.get_feature_names()\n",
    "with open('./Set_union_mf'+str(max_feature)+'/dictionary.pickle', 'w') as f:\n",
    "    pickle.dump(dictionary, f) \n",
    "\n",
    "\n",
    "for s in range(len(domain)):\n",
    "            \n",
    "    train_fts = vectorizer.transform(train_corpus[s])\n",
    "    test_fts = vectorizer.transform(test_corpus[s])    \n",
    "            \n",
    "    #train_fts = np.asarray(train_fts)\n",
    "    train_label = np.asarray(train_labels[s])          \n",
    "            \n",
    "    #test_fts = np.asarray(test_fts )\n",
    "    test_label = np.asarray(test_labels[s])\n",
    "                      \n",
    "    result_file = './Set_union_mf'+str(max_feature)+'/'+domain[s]+'_mf'+str(max_feature)            \n",
    "    pkl = [(train_fts, train_label), (test_fts, test_label)]\n",
    "    np.save(result_file, pkl)"
   ]
  }
 ],
 "metadata": {
  "kernelspec": {
   "display_name": "Python 2",
   "language": "python",
   "name": "python2"
  },
  "language_info": {
   "codemirror_mode": {
    "name": "ipython",
    "version": 2
   },
   "file_extension": ".py",
   "mimetype": "text/x-python",
   "name": "python",
   "nbconvert_exporter": "python",
   "pygments_lexer": "ipython2",
   "version": "2.7.6"
  }
 },
 "nbformat": 4,
 "nbformat_minor": 0
}
