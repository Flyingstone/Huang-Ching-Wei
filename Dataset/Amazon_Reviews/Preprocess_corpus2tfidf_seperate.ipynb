{
 "cells": [
  {
   "cell_type": "code",
   "execution_count": 1,
   "metadata": {
    "collapsed": true
   },
   "outputs": [],
   "source": [
    "import string\n",
    "import sklearn\n",
    "import pickle\n",
    "import numpy as np\n",
    "from sklearn.feature_extraction.text import TfidfVectorizer"
   ]
  },
  {
   "cell_type": "code",
   "execution_count": 2,
   "metadata": {
    "collapsed": false
   },
   "outputs": [],
   "source": [
    "with open('./books/corpus.pickle') as f: \n",
    "    B_train_corpus, B_train_label, B_test_corpus, B_test_label = pickle.load(f)\n",
    "n_B = len(B_train_corpus)\n",
    "\n",
    "with open('./dvd/corpus.pickle') as f: \n",
    "    D_train_corpus, D_train_label, D_test_corpus, D_test_label = pickle.load(f)\n",
    "n_D = len(D_train_corpus)\n",
    "    \n",
    "with open('./electronics/corpus.pickle') as f: \n",
    "    E_train_corpus, E_train_label, E_test_corpus, E_test_label = pickle.load(f)    \n",
    "n_E = len(E_train_corpus)\n",
    "    \n",
    "with open('./kitchen/corpus.pickle') as f: \n",
    "    K_train_corpus, K_train_label, K_test_corpus, K_test_label = pickle.load(f)     \n",
    "n_K = len(K_train_corpus)\n",
    "    \n",
    "domain = ['books', 'dvd', 'electronics', 'kitchen']\n",
    "train_corpus = [B_train_corpus, D_train_corpus, E_train_corpus, K_train_corpus]\n",
    "train_label = [B_train_label, D_train_label, E_train_label, K_train_label]\n",
    "test_corpus = [B_test_corpus, D_test_corpus, E_test_corpus, K_test_corpus]\n",
    "test_label = [B_test_label, D_test_label, E_test_label, K_test_label]    "
   ]
  },
  {
   "cell_type": "code",
   "execution_count": 3,
   "metadata": {
    "collapsed": false,
    "scrolled": true
   },
   "outputs": [
    {
     "name": "stderr",
     "output_type": "stream",
     "text": [
      "/usr/local/lib/python2.7/dist-packages/numpy/core/fromnumeric.py:2499: VisibleDeprecationWarning: `rank` is deprecated; use the `ndim` attribute or function instead. To find the rank of a matrix see `numpy.linalg.matrix_rank`.\n",
      "  VisibleDeprecationWarning)\n"
     ]
    }
   ],
   "source": [
    "max_feature=2000\n",
    "\n",
    "for s in range(len(domain)):\n",
    "    for t in range(len(domain)):\n",
    "        if s != t:\n",
    "            s_n = len(train_corpus[s])\n",
    "            t_n = len(train_corpus[t])\n",
    "            \n",
    "            corpus = []\n",
    "            corpus.extend(train_corpus[s])\n",
    "            corpus.extend(train_corpus[t])\n",
    "            \n",
    "            vectorizer = TfidfVectorizer(max_features=max_feature)\n",
    "            vectorizer.fit_transform(corpus)\n",
    "            \n",
    "            source_train_fts = vectorizer.transform(train_corpus[s])\n",
    "            target_train_fts = vectorizer.transform(train_corpus[t])\n",
    "            source_test_fts = vectorizer.transform(test_corpus[s])\n",
    "            target_test_fts = vectorizer.transform(test_corpus[t])\n",
    "            \n",
    "            dictionary = vectorizer.get_feature_names()        \n",
    "            \n",
    "            '''\n",
    "            source_train_fts = np.asarray(source_train_fts)\n",
    "            source_train_label = np.asarray(train_label[s])\n",
    "            target_train_fts = np.asarray(target_train_fts)\n",
    "            target_train_label = np.asarray(train_label[t])    \n",
    "\n",
    "            source_test_fts = np.asarray(source_test_fts)\n",
    "            source_test_label = np.asarray(test_label[s])\n",
    "            target_test_fts = np.asarray(target_test_fts)\n",
    "            target_test_label = np.asarray(test_label[t])  \n",
    "            \n",
    "            '''\n",
    "            \n",
    "            source_train_label = np.asarray(train_label[s])\n",
    "            target_train_label = np.asarray(train_label[t])           \n",
    "            \n",
    "            source_test_label = np.asarray(test_label[s])\n",
    "            target_test_label = np.asarray(test_label[t])          \n",
    "            \n",
    "            result_file = './Set_seperate_mf'+str(max_feature)+'/'+domain[s]+'2'+domain[t]+'_mf'+str(max_feature)\n",
    "            \n",
    "            with open(result_file+'_dictionary.pickle', 'w') as f:\n",
    "                pickle.dump(dictionary, f)   \n",
    "            \n",
    "            pkl = [(source_train_fts, source_train_label), (target_train_fts, target_train_label),\n",
    "                  (source_test_fts, source_test_label), (target_test_fts, target_test_label)]\n",
    "            np.save(result_file, pkl)"
   ]
  }
 ],
 "metadata": {
  "kernelspec": {
   "display_name": "Python 2",
   "language": "python",
   "name": "python2"
  },
  "language_info": {
   "codemirror_mode": {
    "name": "ipython",
    "version": 2
   },
   "file_extension": ".py",
   "mimetype": "text/x-python",
   "name": "python",
   "nbconvert_exporter": "python",
   "pygments_lexer": "ipython2",
   "version": "2.7.6"
  }
 },
 "nbformat": 4,
 "nbformat_minor": 0
}
