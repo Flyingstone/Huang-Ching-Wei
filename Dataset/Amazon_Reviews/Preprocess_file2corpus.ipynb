{
 "cells": [
  {
   "cell_type": "code",
   "execution_count": 1,
   "metadata": {
    "collapsed": true
   },
   "outputs": [],
   "source": [
    "import string\n",
    "import pickle"
   ]
  },
  {
   "cell_type": "code",
   "execution_count": 2,
   "metadata": {
    "collapsed": false
   },
   "outputs": [],
   "source": [
    "def wordscount2document(line):\n",
    "    wordcount = line.split()\n",
    "    document = ''\n",
    "    for i in range(len(wordcount)-1):\n",
    "        tmp = wordcount[i].split(':')\n",
    "        for j in range(int(tmp[1])):\n",
    "            document += tmp[0] + ' '         \n",
    "    tmp = wordcount[-1].split(':')\n",
    "    if tmp[1]=='negative':\n",
    "        label = [0, 1]\n",
    "    else:\n",
    "        label = [1, 0]\n",
    "    return document, label\n",
    "\n",
    "def file2corpus(f):\n",
    "    corpus = []\n",
    "    label = []\n",
    "    for line in f:\n",
    "        document, l = wordscount2document(line)\n",
    "        corpus.append(document)\n",
    "        label.append(l)\n",
    "    return corpus, label"
   ]
  },
  {
   "cell_type": "code",
   "execution_count": 3,
   "metadata": {
    "collapsed": false,
    "scrolled": true
   },
   "outputs": [],
   "source": [
    "domain = ['books', 'dvd', 'electronics', 'kitchen']\n",
    "for i in range(len(domain)):\n",
    "    \n",
    "    train_corpus=[]\n",
    "    train_label=[]\n",
    "    \n",
    "    filename = './'+domain[i]+'/negative.review'    \n",
    "    f = open(filename, 'r')\n",
    "    corpus_tmp, label_tmp = file2corpus(f)\n",
    "    train_corpus.extend(corpus_tmp)\n",
    "    train_label.extend(label_tmp)\n",
    "    \n",
    "    filename = './'+domain[i]+'/positive.review'    \n",
    "    f = open(filename, 'r')\n",
    "    corpus_tmp, label_tmp = file2corpus(f)\n",
    "    train_corpus.extend(corpus_tmp)\n",
    "    train_label.extend(label_tmp)    \n",
    "    \n",
    "    filename = './'+domain[i]+'/unlabeled.review'    \n",
    "    f = open(filename, 'r')\n",
    "    test_corpus, test_label = file2corpus(f)  \n",
    "    \n",
    "    result_file = './'+domain[i]+'/corpus.pickle'  \n",
    "    with open(result_file, 'w') as f:\n",
    "        pickle.dump([train_corpus, train_label, test_corpus, test_label], f)    \n"
   ]
  }
 ],
 "metadata": {
  "kernelspec": {
   "display_name": "Python 2",
   "language": "python",
   "name": "python2"
  },
  "language_info": {
   "codemirror_mode": {
    "name": "ipython",
    "version": 2
   },
   "file_extension": ".py",
   "mimetype": "text/x-python",
   "name": "python",
   "nbconvert_exporter": "python",
   "pygments_lexer": "ipython2",
   "version": "2.7.6"
  }
 },
 "nbformat": 4,
 "nbformat_minor": 0
}
