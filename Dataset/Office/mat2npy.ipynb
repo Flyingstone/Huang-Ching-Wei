{
 "cells": [
  {
   "cell_type": "code",
   "execution_count": 1,
   "metadata": {
    "collapsed": false
   },
   "outputs": [],
   "source": [
    "import numpy as np\n",
    "import scipy.stats as spy\n",
    "import scipy.io as sio\n",
    "\n",
    "def num2signal(x):\n",
    "    dim = np.max(x,0)[0]\n",
    "    n = x.shape[0]\n",
    "    s = np.zeros((n, dim))\n",
    "    \n",
    "    for i in range(n):\n",
    "        s[i, x[i]-1] = 1\n",
    "    return s"
   ]
  },
  {
   "cell_type": "code",
   "execution_count": 2,
   "metadata": {
    "collapsed": false
   },
   "outputs": [
    {
     "name": "stdout",
     "output_type": "stream",
     "text": [
      "(190, 800)\n",
      "(220, 800)\n",
      "(30, 800)\n",
      "(60, 800)\n",
      "Done\n"
     ]
    }
   ],
   "source": [
    "name = ['amazon_SURF_L10.mat', 'Caltech10_SURF_L10.mat', 'dslr_SURF_L10.mat', 'webcam_SURF_L10.mat']\n",
    "result_name = ['amazon_SURF_L10', 'Caltech10_SURF_L10', 'dslr_SURF_L10', 'webcam_SURF_L10']\n",
    "\n",
    "for i in range(4):\n",
    "    file_name = name[i]\n",
    "    result_file = result_name[i]\n",
    "    \n",
    "    mat = sio.loadmat(file_name)\n",
    "    labels = mat['labels']\n",
    "    labels = num2signal(labels)\n",
    "    \n",
    "    fts = mat['fts']\n",
    "    \n",
    "    #data preprocessing \n",
    "    fts = np.float32(fts) / np.tile(np.sum(fts, axis=1, dtype='float32', keepdims=True), (1, fts.shape[1]))\n",
    "    fts = spy.zscore(fts, 0)    \n",
    "    \n",
    "    r_train = 0.5\n",
    "    r_validate = 0.3\n",
    "    r_test = 0.2\n",
    "    \n",
    "    n = np.shape(fts)[0]\n",
    "    train_n = np.floor(n * r_train).astype(int)\n",
    "    validataion_n = np.floor(n * r_validate).astype(int)    \n",
    "    test_n = n - train_n - validataion_n\n",
    "    \n",
    "    validataion_l_n = validataion_n // 10\n",
    "    test_l_n = test_n // 10\n",
    "\n",
    "    train_fts = []\n",
    "    train_labels = []\n",
    "    validataion_fts = None\n",
    "    validataion_labels = None\n",
    "    test_fts = None\n",
    "    test_labels = None\n",
    "    \n",
    "    #make the validation and test data balance(data number of any label are same)\n",
    "    k=9\n",
    "    ind = np.where(labels[:,k] == 1)[0][0:test_l_n]\n",
    "        \n",
    "    test_fts = fts[ ind , :]\n",
    "    test_labels = labels[ ind , :]\n",
    "    fts = np.delete(fts, (ind), axis = 0)\n",
    "    labels = np.delete(labels, (ind), axis = 0)\n",
    "        \n",
    "    ind = np.where(labels[:,k] == 1)[0][0:validataion_l_n]\n",
    "    validataion_fts = fts[ ind , :]\n",
    "    validataion_labels =  labels[ ind , :]\n",
    "    fts = np.delete(fts, (ind), axis = 0)\n",
    "    labels = np.delete(labels, (ind), axis = 0)    \n",
    "    \n",
    "    for k in range(9):     \n",
    "        ind = np.where(labels[:,k] == 1)[0][0:test_l_n]\n",
    "        \n",
    "        test_fts = np.append( test_fts, fts[ ind , :], axis=0 )\n",
    "        test_labels = np.append( test_labels, labels[ ind , :], axis=0 )\n",
    "        fts = np.delete(fts, (ind), axis = 0)\n",
    "        labels = np.delete(labels, (ind), axis = 0)\n",
    "        \n",
    "        ind = np.where(labels[:,k] == 1)[0][0:validataion_l_n]\n",
    "        validataion_fts = np.append( validataion_fts, fts[ ind , :], axis=0 )\n",
    "        validataion_labels = np.append( validataion_labels, labels[ ind , :], axis=0 )\n",
    "        fts = np.delete(fts, (ind), axis = 0)\n",
    "        labels = np.delete(labels, (ind), axis = 0)  \n",
    "        \n",
    "    print(np.shape(test_fts))\n",
    "    \n",
    "    n = np.shape(fts)[0]\n",
    "    train_n = np.floor(n * 0.3).astype(int)\n",
    "    validataion_n = np.floor(n * 0.2).astype(int)    \n",
    "    \n",
    "    index = np.random.permutation(n)\n",
    "    fts = fts[index, :]\n",
    "    labels = labels[index, :]\n",
    "        \n",
    "    train_fts = fts\n",
    "    train_labels = labels        \n",
    "\n",
    "    pkl = [(train_fts, train_labels), (validataion_fts, validataion_labels), (test_fts, test_labels)]\n",
    "    \n",
    "    np.save(result_file, pkl)\n",
    "    \n",
    "print(\"Done\")    "
   ]
  }
 ],
 "metadata": {
  "kernelspec": {
   "display_name": "Python 2",
   "language": "python",
   "name": "python2"
  },
  "language_info": {
   "codemirror_mode": {
    "name": "ipython",
    "version": 2
   },
   "file_extension": ".py",
   "mimetype": "text/x-python",
   "name": "python",
   "nbconvert_exporter": "python",
   "pygments_lexer": "ipython2",
   "version": "2.7.6"
  }
 },
 "nbformat": 4,
 "nbformat_minor": 0
}
